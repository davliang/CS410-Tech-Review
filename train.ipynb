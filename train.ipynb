{
 "cells": [
  {
   "cell_type": "code",
   "execution_count": 4,
   "metadata": {},
   "outputs": [],
   "source": [
    "from sklearn.model_selection import train_test_split\n",
    "import torch\n",
    "import torch.optim as optim\n",
    "import torch.nn as nn\n",
    "from torch.utils.data import DataLoader\n",
    "from src.models import HAN\n",
    "from src.dataset import HANDataset\n",
    "import pandas as pd"
   ]
  },
  {
   "cell_type": "code",
   "execution_count": null,
   "metadata": {},
   "outputs": [],
   "source": [
    "def load_yelp(file_path=\"data/yelp-2015.json\"):\n",
    "    df = pd.read_json(file_path, lines=True)\n",
    "    df = df[[\"stars\", \"text\"]]\n",
    "    return df"
   ]
  },
  {
   "cell_type": "code",
   "execution_count": 6,
   "metadata": {},
   "outputs": [],
   "source": [
    "def split_data(df, train_frac=0.8, eval_frac=0.1, test_frac=0.1, random_state=0):\n",
    "    # Ensure the fractions sum to 1.0\n",
    "    assert abs(train_frac + eval_frac + test_frac - 1.0) < 1e-6, (\n",
    "        \"Fractions must sum to 1.0\"\n",
    "    )\n",
    "\n",
    "    df = df.sample(frac=1, random_state=random_state).reset_index(drop=True)\n",
    "\n",
    "    train_df, temp_df = train_test_split(\n",
    "        df, test_size=(1 - train_frac), random_state=random_state\n",
    "    )\n",
    "    eval_df, test_df = train_test_split(\n",
    "        temp_df, test_size=0.5, random_state=random_state\n",
    "    )\n",
    "\n",
    "    return train_df, eval_df, test_df"
   ]
  },
  {
   "cell_type": "code",
   "execution_count": 5,
   "metadata": {},
   "outputs": [],
   "source": [
    "def train_model(\n",
    "    model,\n",
    "    train_dataloader,\n",
    "    eval_dataloader,\n",
    "    num_epochs=5,\n",
    "    lr=1e-3,\n",
    "    device=torch.device(\"cpu\"),\n",
    "):\n",
    "    model.to(device)\n",
    "    optimizer = optim.Adam(model.parameters(), lr=lr)\n",
    "    criterion = nn.CrossEntropyLoss()\n",
    "\n",
    "    for epoch in range(num_epochs):\n",
    "        model.train()\n",
    "        running_loss = 0.0\n",
    "        for batch_docs, batch_labels in train_dataloader:\n",
    "            batch_docs = batch_docs.to(device)\n",
    "            batch_labels = batch_labels.to(device)\n",
    "            optimizer.zero_grad()\n",
    "            logits, _, _ = model(batch_docs)\n",
    "            loss = criterion(logits, batch_labels)\n",
    "            loss.backward()\n",
    "            optimizer.step()\n",
    "            running_loss += loss.item() * batch_docs.size(0)\n",
    "        avg_loss = running_loss / len(train_dataloader.dataset)\n",
    "        print(f\"Epoch {epoch + 1}/{num_epochs} - Training Loss: {avg_loss:.4f}\")\n",
    "\n",
    "        # Evaluate on validation set\n",
    "        model.eval()\n",
    "        correct = 0\n",
    "        total = 0\n",
    "        with torch.no_grad():\n",
    "            for val_docs, val_labels in eval_dataloader:\n",
    "                val_docs = val_docs.to(device)\n",
    "                val_labels = val_labels.to(device)\n",
    "                logits, _, _ = model(val_docs)\n",
    "                predictions = torch.argmax(logits, dim=1)\n",
    "                correct += (predictions == val_labels).sum().item()\n",
    "                total += val_labels.size(0)\n",
    "        val_acc = correct / total if total > 0 else 0\n",
    "        print(f\"Epoch {epoch + 1}/{num_epochs} - Validation Accuracy: {val_acc:.4f}\")"
   ]
  },
  {
   "cell_type": "code",
   "execution_count": 6,
   "metadata": {},
   "outputs": [
    {
     "name": "stdout",
     "output_type": "stream",
     "text": [
      "Loading Yelp dataset...\n",
      "Loaded 1569264 samples from Yelp dataset.\n",
      "   stars                                               text\n",
      "0      5  dr. goldberg offers everything i look for in a...\n",
      "1      2  Unfortunately, the frustration of being Dr. Go...\n",
      "2      4  Dr. Goldberg has been my doctor for years and ...\n",
      "3      4  Been going to Dr. Goldberg for over 10 years. ...\n",
      "4      4  Got a letter in the mail last week that said D...\n"
     ]
    }
   ],
   "source": [
    "print(\"Loading Yelp dataset...\")\n",
    "df = load_yelp()\n",
    "print(f\"Loaded {len(df)} samples from Yelp dataset.\")\n",
    "print(df.head())"
   ]
  },
  {
   "cell_type": "code",
   "execution_count": 7,
   "metadata": {},
   "outputs": [
    {
     "name": "stdout",
     "output_type": "stream",
     "text": [
      "Splitting data into train, eval, and test sets...\n"
     ]
    }
   ],
   "source": [
    "print(\"Splitting data into train, eval, and test sets...\")\n",
    "train_df, eval_df, test_df = split_data(df)\n",
    "\n",
    "train_documents = train_df[\"text\"].tolist()\n",
    "train_labels = train_df[\"stars\"].tolist()\n",
    "\n",
    "eval_documents = eval_df[\"text\"].tolist()\n",
    "eval_labels = eval_df[\"stars\"].tolist()\n",
    "\n",
    "test_documents = test_df[\"text\"].tolist()\n",
    "test_labels = test_df[\"stars\"].tolist()"
   ]
  },
  {
   "cell_type": "code",
   "execution_count": null,
   "metadata": {},
   "outputs": [
    {
     "name": "stdout",
     "output_type": "stream",
     "text": [
      "Creating HAN datasets...\n",
      "Loading spacy model...\n",
      "Tokenizing documents...\n"
     ]
    },
    {
     "name": "stderr",
     "output_type": "stream",
     "text": [
      "Tokenizing: 100%|██████████| 1255411/1255411 [24:13<00:00, 863.48it/s] \n"
     ]
    },
    {
     "name": "stdout",
     "output_type": "stream",
     "text": [
      "Caching tokenized documents...\n"
     ]
    }
   ],
   "source": [
    "print(\"Creating HAN datasets...\")\n",
    "train_dataset = HANDataset(train_documents, train_labels)"
   ]
  },
  {
   "cell_type": "code",
   "execution_count": null,
   "metadata": {},
   "outputs": [],
   "source": [
    "eval_dataset = HANDataset(eval_documents, eval_labels)"
   ]
  },
  {
   "cell_type": "code",
   "execution_count": null,
   "metadata": {},
   "outputs": [],
   "source": [
    "test_dataset = HANDataset(test_documents, test_labels)"
   ]
  },
  {
   "cell_type": "code",
   "execution_count": null,
   "metadata": {},
   "outputs": [],
   "source": [
    "print(\"Creating DataLoaders...\")\n",
    "train_dataloader = DataLoader(train_dataset, batch_size=64, shuffle=True)\n",
    "eval_dataloader = DataLoader(eval_dataset, batch_size=64, shuffle=False)\n",
    "test_dataloader = DataLoader(test_dataset, batch_size=64, shuffle=False)"
   ]
  },
  {
   "cell_type": "code",
   "execution_count": null,
   "metadata": {},
   "outputs": [],
   "source": [
    "vocab_size = len(train_dataset.vocab)\n",
    "embedding_dim = 200  # Arbitrary Word2Vec embedding size\n",
    "\n",
    "# Hyperparameters for GRU layers\n",
    "word_hidden_dim = 50\n",
    "sent_hidden_dim = 50\n",
    "num_classes = 5  # 1-5 star ratings\n",
    "\n",
    "device = torch.device(\"cuda\" if torch.cuda.is_available() else \"cpu\")\n",
    "\n",
    "print(\"Initializing HAN model...\")\n",
    "model = HAN(\n",
    "    vocab_size,\n",
    "    embedding_dim,\n",
    "    word_hidden_dim,\n",
    "    sent_hidden_dim,\n",
    "    num_classes,\n",
    "    device=device,\n",
    ")"
   ]
  },
  {
   "cell_type": "code",
   "execution_count": null,
   "metadata": {},
   "outputs": [],
   "source": [
    "print(\"Training HAN model...\")\n",
    "train_model(\n",
    "    model, train_dataloader, eval_dataloader, num_epochs=5, lr=1e-3, device=device\n",
    ")"
   ]
  },
  {
   "cell_type": "code",
   "execution_count": null,
   "metadata": {},
   "outputs": [],
   "source": []
  }
 ],
 "metadata": {
  "kernelspec": {
   "display_name": ".venv",
   "language": "python",
   "name": "python3"
  },
  "language_info": {
   "codemirror_mode": {
    "name": "ipython",
    "version": 3
   },
   "file_extension": ".py",
   "mimetype": "text/x-python",
   "name": "python",
   "nbconvert_exporter": "python",
   "pygments_lexer": "ipython3",
   "version": "3.11.11"
  }
 },
 "nbformat": 4,
 "nbformat_minor": 2
}
